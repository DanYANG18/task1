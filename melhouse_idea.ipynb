{
 "cells": [
  {
   "cell_type": "markdown",
   "id": "8ba92dca",
   "metadata": {},
   "source": [
    "# Real Estate Sales in Melbourne\n",
    "### The notebook of this project is an analysis of the database of real estate sales in Melbourne from 2016 to 2017. The features of the dataset includes Address, Type of Real Estate, Suburb, Method of Selling, Rooms, Price, Real Estate Agent, Date of Sale, Distance from CBD, Land Size, Building Size and Number of Properties that exist in each suburb. The amount of data in this database has certain limitations, with less data available for the first quarter of 2016 and the fourth quarter of 2017. Despite the limitations above, other data volumes are very detailed and easy to analyze.\n",
    "### For most stakeholders, the main concern is the price, so my first point is mainly to analyze which features will affect the housing price. \n",
    "Types: Unit,House and Townhouse.\n",
    "* The price distribution of different types of housing.\n",
    "\n",
    "Suburbs: With distance and directions from CBD.\n",
    "* The price distribution of different suburbs.\n",
    "\n",
    "Rooms: With number of bedrooms,bathrooms and carports.\n",
    "* The price distribution of number of rooms.\n",
    "\n",
    "\n",
    "According to the data, I predict that the house price is mainly affected by the type of property. House is the most expensive, townhouse is the second, and unit is the cheapest. Secondly, in the case of the same type of house, the suburb where the house is located is a key factor in determining the property price. Finally, when the conditions of the first two features are the same, what determines the real estate price is the number of houses.\n",
    "\n",
    "### Secondly, I will further summarize the real estate in Melbourne from 2016 to 2017.\n",
    "* Which types of property have sold the most?\n",
    "* Which sales method is easy to make deal？\n",
    "* Which month sold the most in 2016 or 2017?\n",
    "* Top 10 suburbs with highest sales.\n",
    "* The correlation between built year and property price\n",
    "* The correlation between land size and property price.\n"
   ]
  },
  {
   "cell_type": "markdown",
   "id": "37bad44d",
   "metadata": {},
   "source": [
    "# Data Overview"
   ]
  },
  {
   "cell_type": "code",
   "execution_count": 6,
   "id": "61f296c5",
   "metadata": {},
   "outputs": [],
   "source": [
    "#import packages\n",
    "import pandas as pd  \n",
    "import numpy as np\n",
    "import datetime\n",
    "import matplotlib.pyplot as plt \n",
    "import seaborn as sns\n",
    "%matplotlib inline"
   ]
  },
  {
   "cell_type": "code",
   "execution_count": null,
   "id": "f2754280",
   "metadata": {},
   "outputs": [],
   "source": [
    "df = pd.read_csv('Desktop/melb_data.csv')\n",
    "df"
   ]
  },
  {
   "cell_type": "code",
   "execution_count": null,
   "id": "9e18da70",
   "metadata": {},
   "outputs": [],
   "source": [
    "df.info()"
   ]
  },
  {
   "cell_type": "code",
   "execution_count": null,
   "id": "4b2c9318",
   "metadata": {},
   "outputs": [],
   "source": [
    "df.isnull().sum()"
   ]
  },
  {
   "cell_type": "code",
   "execution_count": null,
   "id": "5b4b83d3",
   "metadata": {},
   "outputs": [],
   "source": [
    "df.describe()"
   ]
  },
  {
   "cell_type": "code",
   "execution_count": null,
   "id": "72340223",
   "metadata": {},
   "outputs": [],
   "source": [
    "df['Date'] = pd.to_datetime(df['Date'])\n",
    "df['Sold_year'] = pd.DatetimeIndex(df['Date']).year\n",
    "df['Sold_month'] = pd.DatetimeIndex(df['Date']).month\n",
    "df.drop(columns = ['Date'], inplace = True)\n",
    "df.head()"
   ]
  },
  {
   "cell_type": "code",
   "execution_count": null,
   "id": "0df74789",
   "metadata": {},
   "outputs": [],
   "source": [
    "sns.set_theme(style=\"darkgrid\")\n",
    "fig, axs = plt.subplots(figsize=(7,5))\n",
    "sns.histplot(df['Car'])"
   ]
  },
  {
   "cell_type": "code",
   "execution_count": null,
   "id": "804e5a98",
   "metadata": {},
   "outputs": [],
   "source": [
    "df_car_na = df[df['Car'].isna()]\n",
    "df_car_na['Type'].unique()"
   ]
  },
  {
   "cell_type": "code",
   "execution_count": null,
   "id": "fe1aa3f6",
   "metadata": {},
   "outputs": [],
   "source": [
    "df2 = df_car_na.groupby('Type')['Suburb'].count().reset_index(name='count')\n",
    "df2"
   ]
  },
  {
   "cell_type": "markdown",
   "id": "1cb31881",
   "metadata": {},
   "source": [
    "coding问题：分别给house和unit fillna时我没办法做到inplace\n",
    "df_car_house= df_car_na.loc[df_car_na['Type']=='h','Car']\n",
    "df_car_unit= df_car_na.loc[df_car_na['Type']=='u','Car']\n",
    "df_car_house.fillna(1,inplace=True)\n",
    "df_car_unit.fillna(0,inplace=True)\n",
    "df_car_na =df_car_house+df_car_unit\n",
    "df_car_na\n",
    "所以打算直接用众数来fill"
   ]
  },
  {
   "cell_type": "code",
   "execution_count": null,
   "id": "86013c13",
   "metadata": {},
   "outputs": [],
   "source": [
    "#House has 60 nulls and unit has 2 negligible ones, so we fill them directly with the mode which is 2.\n",
    "df['Car'] = df['Car'].fillna(2)"
   ]
  },
  {
   "cell_type": "code",
   "execution_count": null,
   "id": "c82945c1",
   "metadata": {},
   "outputs": [],
   "source": [
    "#As for the null values in the other three, we will directly drop them because they do not affect the analysis.\n",
    "df.dropna(axis=1,inplace=True)"
   ]
  },
  {
   "cell_type": "markdown",
   "id": "b8c786ba",
   "metadata": {},
   "source": [
    "# Data Analytics\n",
    "\n",
    "The price distribution of different types of housing.\n",
    "\n",
    "Types: Unit,House and Townhouse."
   ]
  },
  {
   "cell_type": "code",
   "execution_count": null,
   "id": "644381f3",
   "metadata": {},
   "outputs": [],
   "source": [
    "df_house=df[df['Type']=='h']\n",
    "df_house['Price'].median()"
   ]
  },
  {
   "cell_type": "code",
   "execution_count": null,
   "id": "ccf2bea4",
   "metadata": {},
   "outputs": [],
   "source": [
    "df_townhouse=df[df['Type']=='t']\n",
    "df_townhouse['Price'].median()"
   ]
  },
  {
   "cell_type": "code",
   "execution_count": null,
   "id": "53aef992",
   "metadata": {},
   "outputs": [],
   "source": [
    "df_unit=df[df['Type']=='u']\n",
    "df_unit['Price'].median()"
   ]
  },
  {
   "cell_type": "code",
   "execution_count": null,
   "id": "3bdde5eb",
   "metadata": {},
   "outputs": [],
   "source": [
    "sns.histplot(df_house['Price'],color = 'green')\n",
    "sns.histplot(df_townhouse['Price'],color= 'red')\n",
    "sns.histplot(df_unit['Price'],color = 'black')"
   ]
  }
 ],
 "metadata": {
  "kernelspec": {
   "display_name": "Python 3 (ipykernel)",
   "language": "python",
   "name": "python3"
  },
  "language_info": {
   "codemirror_mode": {
    "name": "ipython",
    "version": 3
   },
   "file_extension": ".py",
   "mimetype": "text/x-python",
   "name": "python",
   "nbconvert_exporter": "python",
   "pygments_lexer": "ipython3",
   "version": "3.9.13"
  }
 },
 "nbformat": 4,
 "nbformat_minor": 5
}
